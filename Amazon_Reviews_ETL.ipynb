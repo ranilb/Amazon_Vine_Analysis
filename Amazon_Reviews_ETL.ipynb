{
  "cells": [
    {
      "cell_type": "code",
      "execution_count": 1,
      "metadata": {
        "colab": {
          "base_uri": "https://localhost:8080/"
        },
        "id": "V58rxea0HqSa",
        "outputId": "951cf428-e672-4434-de3d-78dd7d24e902"
      },
      "outputs": [
        {
          "output_type": "stream",
          "name": "stdout",
          "text": [
            "\r0% [Working]\r            \rHit:1 http://ppa.launchpad.net/c2d4u.team/c2d4u4.0+/ubuntu bionic InRelease\n",
            "\r0% [Connecting to archive.ubuntu.com (91.189.91.39)] [Connecting to security.ub\r                                                                               \rHit:2 https://cloud.r-project.org/bin/linux/ubuntu bionic-cran40/ InRelease\n",
            "\r                                                                               \rHit:3 http://ppa.launchpad.net/cran/libgit2/ubuntu bionic InRelease\n",
            "\r0% [Connecting to archive.ubuntu.com (91.189.91.39)] [Connecting to security.ub\r0% [1 InRelease gpgv 15.9 kB] [Connecting to archive.ubuntu.com (91.189.91.39)]\r                                                                               \rHit:4 http://ppa.launchpad.net/deadsnakes/ppa/ubuntu bionic InRelease\n",
            "\r0% [1 InRelease gpgv 15.9 kB] [Connecting to archive.ubuntu.com (91.189.91.39)]\r                                                                               \rHit:5 http://ppa.launchpad.net/graphics-drivers/ppa/ubuntu bionic InRelease\n",
            "Hit:6 http://archive.ubuntu.com/ubuntu bionic InRelease\n",
            "Get:7 http://archive.ubuntu.com/ubuntu bionic-updates InRelease [88.7 kB]\n",
            "Get:8 http://security.ubuntu.com/ubuntu bionic-security InRelease [88.7 kB]\n",
            "Ign:9 https://developer.download.nvidia.com/compute/machine-learning/repos/ubuntu1804/x86_64  InRelease\n",
            "Hit:10 https://developer.download.nvidia.com/compute/cuda/repos/ubuntu1804/x86_64  InRelease\n",
            "Hit:11 https://developer.download.nvidia.com/compute/machine-learning/repos/ubuntu1804/x86_64  Release\n",
            "Get:12 http://archive.ubuntu.com/ubuntu bionic-backports InRelease [83.3 kB]\n",
            "Fetched 261 kB in 3s (96.0 kB/s)\n",
            "Reading package lists... Done\n"
          ]
        }
      ],
      "source": [
        "import os\n",
        "# Find the latest version of spark 3.2 from http://www.apache.org/dist/spark/ and enter as the spark version\n",
        "# For example:\n",
        "# spark_version = 'spark-3.2.3'\n",
        "spark_version = 'spark-3.2.3'\n",
        "os.environ['SPARK_VERSION']=spark_version\n",
        "\n",
        "# Install Spark and Java\n",
        "!apt-get update\n",
        "!apt-get install openjdk-11-jdk-headless -qq > /dev/null\n",
        "!wget -q http://www.apache.org/dist/spark/$SPARK_VERSION/$SPARK_VERSION-bin-hadoop2.7.tgz\n",
        "!tar xf $SPARK_VERSION-bin-hadoop2.7.tgz\n",
        "!pip install -q findspark\n",
        "\n",
        "# Set Environment Variables\n",
        "import os\n",
        "os.environ[\"JAVA_HOME\"] = \"/usr/lib/jvm/java-11-openjdk-amd64\"\n",
        "os.environ[\"SPARK_HOME\"] = f\"/content/{spark_version}-bin-hadoop2.7\"\n",
        "\n",
        "# Start a SparkSession\n",
        "import findspark\n",
        "findspark.init()"
      ]
    },
    {
      "cell_type": "code",
      "execution_count": 2,
      "metadata": {
        "colab": {
          "base_uri": "https://localhost:8080/"
        },
        "id": "_xKwTpATHqSe",
        "outputId": "cc971339-3b2f-42d7-f519-06b7ff64cbbb"
      },
      "outputs": [
        {
          "output_type": "stream",
          "name": "stdout",
          "text": [
            "--2023-01-15 19:06:04--  https://jdbc.postgresql.org/download/postgresql-42.2.16.jar\n",
            "Resolving jdbc.postgresql.org (jdbc.postgresql.org)... 72.32.157.228, 2001:4800:3e1:1::228\n",
            "Connecting to jdbc.postgresql.org (jdbc.postgresql.org)|72.32.157.228|:443... connected.\n",
            "HTTP request sent, awaiting response... 200 OK\n",
            "Length: 1002883 (979K) [application/java-archive]\n",
            "Saving to: ‘postgresql-42.2.16.jar.2’\n",
            "\n",
            "postgresql-42.2.16. 100%[===================>] 979.38K  1.58MB/s    in 0.6s    \n",
            "\n",
            "2023-01-15 19:06:05 (1.58 MB/s) - ‘postgresql-42.2.16.jar.2’ saved [1002883/1002883]\n",
            "\n"
          ]
        }
      ],
      "source": [
        "# Download the Postgres driver that will allow Spark to interact with Postgres.\n",
        "!wget https://jdbc.postgresql.org/download/postgresql-42.2.16.jar"
      ]
    },
    {
      "cell_type": "code",
      "execution_count": 3,
      "metadata": {
        "id": "MMqDAjVS0KN9"
      },
      "outputs": [],
      "source": [
        "from pyspark.sql import SparkSession\n",
        "spark = SparkSession.builder.appName(\"M17-Amazon-Challenge\").config(\"spark.driver.extraClassPath\",\"/content/postgresql-42.2.16.jar\").getOrCreate()"
      ]
    },
    {
      "cell_type": "markdown",
      "metadata": {
        "id": "cyBsySGuY-9V"
      },
      "source": [
        "### Load Amazon Data into Spark DataFrame"
      ]
    },
    {
      "cell_type": "code",
      "execution_count": 4,
      "metadata": {
        "id": "CtCmBhQJY-9Z",
        "colab": {
          "base_uri": "https://localhost:8080/"
        },
        "outputId": "938e5b3b-1f07-4331-91cb-4364259f3108"
      },
      "outputs": [
        {
          "output_type": "stream",
          "name": "stdout",
          "text": [
            "+-----------+-----------+--------------+----------+--------------+--------------------+----------------+-----------+-------------+-----------+----+-----------------+--------------------+--------------------+-----------+\n",
            "|marketplace|customer_id|     review_id|product_id|product_parent|       product_title|product_category|star_rating|helpful_votes|total_votes|vine|verified_purchase|     review_headline|         review_body|review_date|\n",
            "+-----------+-----------+--------------+----------+--------------+--------------------+----------------+-----------+-------------+-----------+----+-----------------+--------------------+--------------------+-----------+\n",
            "|         US|   24371595|R27ZP1F1CD0C3Y|B004LLIL5A|     346014806|Amazon eGift Card...|       Gift Card|          5|            0|          0|   N|                Y|          Five Stars|Great birthday gi...| 2015-08-31|\n",
            "|         US|   42489718| RJ7RSBCHUDNNE|B004LLIKVU|     473048287|Amazon.com eGift ...|       Gift Card|          5|            0|          0|   N|                Y|Gift card for the...|It's an Amazon gi...| 2015-08-31|\n",
            "|         US|     861463|R1HVYBSKLQJI5S|B00IX1I3G6|     926539283|Amazon.com Gift C...|       Gift Card|          5|            0|          0|   N|                Y|          Five Stars|                Good| 2015-08-31|\n",
            "|         US|   25283295|R2HAXF0IIYQBIR|B00IX1I3G6|     926539283|Amazon.com Gift C...|       Gift Card|          1|            0|          0|   N|                Y|            One Star|                Fair| 2015-08-31|\n",
            "|         US|     397970| RNYLPX611NB7Q|B005ESMGV4|     379368939|Amazon.com Gift C...|       Gift Card|          5|            0|          0|   N|                Y|          Five Stars|I can't believe h...| 2015-08-31|\n",
            "|         US|   18513645|R3ALA9XXMBEDZR|B004KNWWU4|     326384774|Amazon Gift Card ...|       Gift Card|          5|            0|          0|   N|                Y|Perfect for most ...|Perfect!  Nice & ...| 2015-08-31|\n",
            "|         US|   22484620|R3R8PHAVJFTPDF|B004LLIKVU|     473048287|Amazon.com eGift ...|       Gift Card|          5|            0|          0|   N|                Y|          Five Stars|            excelent| 2015-08-31|\n",
            "|         US|   14765851|R18WWEK8OIXE30|BT00CTP2EE|     775486538|Amazon.com Gift C...|       Gift Card|          5|            0|          0|   N|                Y|          Five Stars|Great and Safe Gi...| 2015-08-31|\n",
            "|         US|   18751931|R1EGUNQON2J277|B004LLIKVU|     473048287|Amazon.com eGift ...|       Gift Card|          1|            0|          0|   N|                Y|            One Star|       What?????????| 2015-08-31|\n",
            "|         US|   15100528|R21Z4M4L98CPU2|B004W8D102|     595099956|Amazon Gift Card ...|       Gift Card|          5|            0|          0|   N|                Y|          Five Stars|This was just too...| 2015-08-31|\n",
            "|         US|    3559726| R6JH7A117FHFA|B004LLIKVU|     473048287|Amazon.com eGift ...|       Gift Card|          5|            0|          0|   N|                Y|          Five Stars|                Bien| 2015-08-31|\n",
            "|         US|   23413911|R1XZHS8M1GCGI7|B004KNWWU4|     326384774|Amazon Gift Card ...|       Gift Card|          5|            1|          1|   N|                Y|         Always good|Easy to print fro...| 2015-08-31|\n",
            "|         US|    2026222|R1DAI0N03SKRJN|B004LLIKVU|     473048287|Amazon.com eGift ...|       Gift Card|          5|            1|          1|   N|                Y|          Five Stars|Amazing with 10 d...| 2015-08-31|\n",
            "|         US|   32956435|R2F6SKZOEYQRU3|B004LLIKVU|     473048287|Amazon.com eGift ...|       Gift Card|          5|            0|          0|   N|                N|          Five Stars|Remember Matthew ...| 2015-08-31|\n",
            "|         US|   20241560| RIBOP6OEAZA47|B00H5BNLUS|     637715957|Amazon eGift Card...|       Gift Card|          5|            1|          1|   N|                Y|          Five Stars|                good| 2015-08-31|\n",
            "|         US|   10670435|R15H8E7WD6XD29|B004KNWX6C|     763371347|Amazon Gift Card ...|       Gift Card|          5|            0|          0|   N|                Y|          Five Stars|Awesome way to se...| 2015-08-31|\n",
            "|         US|   48872127| RVN4P3RU4F8IE|BT00CTOYC0|     506740729|Amazon.com $15 Gi...|       Gift Card|          5|            0|          0|   N|                Y|Quick Solution fo...|I love that I hav...| 2015-08-31|\n",
            "|         US|     460630| RCS8F9JCAAXC7|B004LLIKVU|     473048287|Amazon.com eGift ...|       Gift Card|          4|            0|          0|   N|                Y|          Four Stars|Good gift. Easy t...| 2015-08-31|\n",
            "|         US|   41238378| R6811C4E7UYL2|B00H5BMH44|      81025991|Amazon eGift Card...|       Gift Card|          5|            0|          0|   N|                Y|  Satisfied customer|Satisfied as usua...| 2015-08-31|\n",
            "|         US|   14222739|R196T0NZ73TYIM|B005ESMMKE|     459536087|Amazon.com Gift C...|       Gift Card|          5|            1|          1|   N|                Y|          Five Stars|                nice| 2015-08-31|\n",
            "+-----------+-----------+--------------+----------+--------------+--------------------+----------------+-----------+-------------+-----------+----+-----------------+--------------------+--------------------+-----------+\n",
            "only showing top 20 rows\n",
            "\n"
          ]
        }
      ],
      "source": [
        "from pyspark import SparkFiles\n",
        "url = \"https://s3.amazonaws.com/amazon-reviews-pds/tsv/amazon_reviews_us_Gift_Card_v1_00.tsv.gz\"\n",
        "spark.sparkContext.addFile(url)\n",
        "df = spark.read.option(\"encoding\", \"UTF-8\").csv(SparkFiles.get(\"\"), sep=\"\\t\", header=True, inferSchema=True)\n",
        "df.show()"
      ]
    },
    {
      "cell_type": "markdown",
      "metadata": {
        "id": "2yUSe55VY-9t"
      },
      "source": [
        "### Create DataFrames to match tables"
      ]
    },
    {
      "cell_type": "code",
      "execution_count": 5,
      "metadata": {
        "id": "C8REmY1aY-9u",
        "colab": {
          "base_uri": "https://localhost:8080/"
        },
        "outputId": "435a466d-564f-4470-9740-e0c7dd0aca18"
      },
      "outputs": [
        {
          "output_type": "stream",
          "name": "stdout",
          "text": [
            "+-----------+-----------+--------------+----------+--------------+----------------------------------------------------------------------------+----------------+-----------+-------------+-----------+----+-----------------+----------------------------------------------------+-------------------------------------------------------------------------------------------------------+-----------+\n",
            "|marketplace|customer_id|review_id     |product_id|product_parent|product_title                                                               |product_category|star_rating|helpful_votes|total_votes|vine|verified_purchase|review_headline                                     |review_body                                                                                            |review_date|\n",
            "+-----------+-----------+--------------+----------+--------------+----------------------------------------------------------------------------+----------------+-----------+-------------+-----------+----+-----------------+----------------------------------------------------+-------------------------------------------------------------------------------------------------------+-----------+\n",
            "|US         |24371595   |R27ZP1F1CD0C3Y|B004LLIL5A|346014806     |Amazon eGift Card - Celebrate                                               |Gift Card       |5          |0            |0          |N   |Y                |Five Stars                                          |Great birthday gift for a young adult.                                                                 |2015-08-31 |\n",
            "|US         |42489718   |RJ7RSBCHUDNNE |B004LLIKVU|473048287     |Amazon.com eGift Cards                                                      |Gift Card       |5          |0            |0          |N   |Y                |Gift card for the greatest selection of items online|It's an Amazon gift card and with over 982398324908 items I am sure you will find something you love.  |2015-08-31 |\n",
            "|US         |861463     |R1HVYBSKLQJI5S|B00IX1I3G6|926539283     |Amazon.com Gift Card Balance Reload                                         |Gift Card       |5          |0            |0          |N   |Y                |Five Stars                                          |Good                                                                                                   |2015-08-31 |\n",
            "|US         |25283295   |R2HAXF0IIYQBIR|B00IX1I3G6|926539283     |Amazon.com Gift Card Balance Reload                                         |Gift Card       |1          |0            |0          |N   |Y                |One Star                                            |Fair                                                                                                   |2015-08-31 |\n",
            "|US         |397970     |RNYLPX611NB7Q |B005ESMGV4|379368939     |Amazon.com Gift Cards, Pack of 3 (Various Designs)                          |Gift Card       |5          |0            |0          |N   |Y                |Five Stars                                          |I can't believe how quickly Amazon can get these into my hands!!  Thank you!                           |2015-08-31 |\n",
            "|US         |18513645   |R3ALA9XXMBEDZR|B004KNWWU4|326384774     |Amazon Gift Card - Print - Happy Birthday (Birds)                           |Gift Card       |5          |0            |0          |N   |Y                |Perfect for most every occasion!                    |Perfect!  Nice & easy plus everyone loves them.  This is one gift you'll never have to return!         |2015-08-31 |\n",
            "|US         |22484620   |R3R8PHAVJFTPDF|B004LLIKVU|473048287     |Amazon.com eGift Cards                                                      |Gift Card       |5          |0            |0          |N   |Y                |Five Stars                                          |excelent                                                                                               |2015-08-31 |\n",
            "|US         |14765851   |R18WWEK8OIXE30|BT00CTP2EE|775486538     |Amazon.com Gift Card in a Greeting Card (Various Designs)                   |Gift Card       |5          |0            |0          |N   |Y                |Five Stars                                          |Great and Safe Gift Giving                                                                             |2015-08-31 |\n",
            "|US         |18751931   |R1EGUNQON2J277|B004LLIKVU|473048287     |Amazon.com eGift Cards                                                      |Gift Card       |1          |0            |0          |N   |Y                |One Star                                            |What?????????                                                                                          |2015-08-31 |\n",
            "|US         |15100528   |R21Z4M4L98CPU2|B004W8D102|595099956     |Amazon Gift Card - Print - Amazon Boxes                                     |Gift Card       |5          |0            |0          |N   |Y                |Five Stars                                          |This was just too easy~click & print!                                                                  |2015-08-31 |\n",
            "|US         |3559726    |R6JH7A117FHFA |B004LLIKVU|473048287     |Amazon.com eGift Cards                                                      |Gift Card       |5          |0            |0          |N   |Y                |Five Stars                                          |Bien                                                                                                   |2015-08-31 |\n",
            "|US         |23413911   |R1XZHS8M1GCGI7|B004KNWWU4|326384774     |Amazon Gift Card - Print - Happy Birthday (Birds)                           |Gift Card       |5          |1            |1          |N   |Y                |Always good                                         |Easy to print from email.  I love the variety of cards available for print on demand.                  |2015-08-31 |\n",
            "|US         |2026222    |R1DAI0N03SKRJN|B004LLIKVU|473048287     |Amazon.com eGift Cards                                                      |Gift Card       |5          |1            |1          |N   |Y                |Five Stars                                          |Amazing with 10 dollar                                                                                 |2015-08-31 |\n",
            "|US         |32956435   |R2F6SKZOEYQRU3|B004LLIKVU|473048287     |Amazon.com eGift Cards                                                      |Gift Card       |5          |0            |0          |N   |N                |Five Stars                                          |Remember Matthew 7:21                                                                                  |2015-08-31 |\n",
            "|US         |20241560   |RIBOP6OEAZA47 |B00H5BNLUS|637715957     |Amazon eGift Card - Hoops and Yoyo Thank You Very Much (Animated) [Hallmark]|Gift Card       |5          |1            |1          |N   |Y                |Five Stars                                          |good                                                                                                   |2015-08-31 |\n",
            "|US         |10670435   |R15H8E7WD6XD29|B004KNWX6C|763371347     |Amazon Gift Card - Print - Celebrate                                        |Gift Card       |5          |0            |0          |N   |Y                |Five Stars                                          |Awesome way to send a gift card!!                                                                      |2015-08-31 |\n",
            "|US         |48872127   |RVN4P3RU4F8IE |BT00CTOYC0|506740729     |Amazon.com $15 Gift Card in a Greeting Card (Amazon Surprise Box Design)    |Gift Card       |5          |0            |0          |N   |Y                |Quick Solution for Forgotten Occasion               |I love that I have instant, helpful options when I forget a birthday! Thanks for saving the day Amazon!|2015-08-31 |\n",
            "|US         |460630     |RCS8F9JCAAXC7 |B004LLIKVU|473048287     |Amazon.com eGift Cards                                                      |Gift Card       |4          |0            |0          |N   |Y                |Four Stars                                          |Good gift. Easy to use. Relatively instant.                                                            |2015-08-31 |\n",
            "|US         |41238378   |R6811C4E7UYL2 |B00H5BMH44|81025991      |Amazon eGift Card - Hoops and Yoyo Cake Face (Animated) [Hallmark]          |Gift Card       |5          |0            |0          |N   |Y                |Satisfied customer                                  |Satisfied as usual<br />Thanks Amazon                                                                  |2015-08-31 |\n",
            "|US         |14222739   |R196T0NZ73TYIM|B005ESMMKE|459536087     |Amazon.com Gift Cards, Pack of 10 (Various Card Designs)                    |Gift Card       |5          |1            |1          |N   |Y                |Five Stars                                          |nice                                                                                                   |2015-08-31 |\n",
            "+-----------+-----------+--------------+----------+--------------+----------------------------------------------------------------------------+----------------+-----------+-------------+-----------+----+-----------------+----------------------------------------------------+-------------------------------------------------------------------------------------------------------+-----------+\n",
            "only showing top 20 rows\n",
            "\n"
          ]
        }
      ],
      "source": [
        "from pyspark.sql.functions import to_date\n",
        "# Read in the Review dataset as a DataFrame\n",
        "df.show(truncate=False)"
      ]
    },
    {
      "cell_type": "code",
      "execution_count": 6,
      "metadata": {
        "id": "B0TESUDRY-90",
        "colab": {
          "base_uri": "https://localhost:8080/"
        },
        "outputId": "a590fe60-ad72-4e43-be58-487c31afcdfa"
      },
      "outputs": [
        {
          "output_type": "stream",
          "name": "stdout",
          "text": [
            "+-----------+--------------+\n",
            "|customer_id|customer_count|\n",
            "+-----------+--------------+\n",
            "|   12819130|             2|\n",
            "|   50079826|             2|\n",
            "|    3399669|             1|\n",
            "|   23344898|             1|\n",
            "|   42139031|             1|\n",
            "|   48994143|             1|\n",
            "|     768171|             1|\n",
            "|   29907188|             1|\n",
            "|   28161223|             1|\n",
            "|     184483|             1|\n",
            "|     225566|             1|\n",
            "|   42628722|             1|\n",
            "|    2903234|             1|\n",
            "|   11285702|             2|\n",
            "|   15423461|             1|\n",
            "|   30717827|             1|\n",
            "|   35594973|             1|\n",
            "|   20157057|             1|\n",
            "|   27747830|             1|\n",
            "|   11150152|             1|\n",
            "+-----------+--------------+\n",
            "only showing top 20 rows\n",
            "\n"
          ]
        }
      ],
      "source": [
        "# Create the customers_table DataFrame\n",
        "customers_df = df.groupby(\"customer_id\").agg({\"customer_id\":\"count\"}).withColumnRenamed(\"count(customer_id)\", \"customer_count\")\n",
        "customers_df.show()"
      ]
    },
    {
      "cell_type": "code",
      "execution_count": 7,
      "metadata": {
        "id": "4FwXA6UvY-96",
        "colab": {
          "base_uri": "https://localhost:8080/"
        },
        "outputId": "2abd1655-a4e6-4c7b-b331-5b0fc01a0827"
      },
      "outputs": [
        {
          "output_type": "stream",
          "name": "stdout",
          "text": [
            "+----------+--------------------------------------------------------------------------------------------+\n",
            "|product_id|product_title                                                                               |\n",
            "+----------+--------------------------------------------------------------------------------------------+\n",
            "|B00CHQKNUM|Amazon.com Gift Card in a Black Gift Box (Previous Generation Card Designs)                 |\n",
            "|B00CRQ4ZOM|Amazon Gift Card - Print - #1 Dad                                                           |\n",
            "|B00H5BMZ32|Amazon eGift Card - Eyes Know What You Did (Animated) [Hallmark]                            |\n",
            "|BT00CTP84S|Amazon.com Gift Card in a Greeting Card (Various Designs)                                   |\n",
            "|B004LLILN2|Amazon eGift Card - Happy Mother's Day (Child Art)                                          |\n",
            "|B00N59437O|Amazon Gift Card - Email - Birthday Birthstone: January (Garnet)                            |\n",
            "|B005J0444E|Amazon.com Gift Card in a Greeting Card (Various Designs)                                   |\n",
            "|B00E1QB2K6|Amazon Gift Card - Facebook - Wedding (Dress and Tux)                                       |\n",
            "|B004LLJ6IQ|Amazon Gift Card - Facebook - Happy Retirement                                              |\n",
            "|B004LLILQ4|Amazon eGift Card - Happy New Year                                                          |\n",
            "|B0091JL2CQ|Amazon.com Gift Card in a Mini Amazon Shipping Box (Various Card Designs)                   |\n",
            "|B0062ONNL6|Amazon Gift Card - Print - Amazon Home                                                      |\n",
            "|BT00CTP0N2|Amazon.com Gift Card - $20 (Christmas Tree design) (Previous generation)                    |\n",
            "|B009I1Z11U|Amazon Video Gift Card - E-mail - Chiquita                                                  |\n",
            "|B009LLWBTM|Amazon Video Gift Card - Facebook - Who Knows - Grad                                        |\n",
            "|B00BWDHS04|Amazon Gift Card - Facebook - You Are Special to Me Birthday (Animated) [American Greetings]|\n",
            "|B0091JKZYW|Amazon.com Gift Card for Any Amount in a Santa Tin (Ho! Ho! Ho! Card Design)                |\n",
            "|B004LLJ6C2|Amazon Gift Card - Facebook - Amazon Music (Notes)                                          |\n",
            "|B007V6ETDK|Amazon eGift Card - Happy Birthday (Presents)                                               |\n",
            "|B005Z3D5OU|Amazon.com Gift Cards, Pack of 3 (Various Designs)                                          |\n",
            "+----------+--------------------------------------------------------------------------------------------+\n",
            "only showing top 20 rows\n",
            "\n"
          ]
        }
      ],
      "source": [
        "# Create the products_table DataFrame and drop duplicates. \n",
        "products_df = df.select([\"product_id\", \"product_title\"]).drop_duplicates()\n",
        "products_df.show(truncate=False)"
      ]
    },
    {
      "cell_type": "code",
      "execution_count": 8,
      "metadata": {
        "id": "MkqyCuNQY-9-",
        "colab": {
          "base_uri": "https://localhost:8080/"
        },
        "outputId": "bd137a89-d2d1-46ef-a1bd-88642b305a96"
      },
      "outputs": [
        {
          "output_type": "stream",
          "name": "stdout",
          "text": [
            "+--------------+-----------+----------+--------------+-----------+\n",
            "|review_id     |customer_id|product_id|product_parent|review_date|\n",
            "+--------------+-----------+----------+--------------+-----------+\n",
            "|R27ZP1F1CD0C3Y|24371595   |B004LLIL5A|346014806     |2015-08-31 |\n",
            "|RJ7RSBCHUDNNE |42489718   |B004LLIKVU|473048287     |2015-08-31 |\n",
            "|R1HVYBSKLQJI5S|861463     |B00IX1I3G6|926539283     |2015-08-31 |\n",
            "|R2HAXF0IIYQBIR|25283295   |B00IX1I3G6|926539283     |2015-08-31 |\n",
            "|RNYLPX611NB7Q |397970     |B005ESMGV4|379368939     |2015-08-31 |\n",
            "|R3ALA9XXMBEDZR|18513645   |B004KNWWU4|326384774     |2015-08-31 |\n",
            "|R3R8PHAVJFTPDF|22484620   |B004LLIKVU|473048287     |2015-08-31 |\n",
            "|R18WWEK8OIXE30|14765851   |BT00CTP2EE|775486538     |2015-08-31 |\n",
            "|R1EGUNQON2J277|18751931   |B004LLIKVU|473048287     |2015-08-31 |\n",
            "|R21Z4M4L98CPU2|15100528   |B004W8D102|595099956     |2015-08-31 |\n",
            "|R6JH7A117FHFA |3559726    |B004LLIKVU|473048287     |2015-08-31 |\n",
            "|R1XZHS8M1GCGI7|23413911   |B004KNWWU4|326384774     |2015-08-31 |\n",
            "|R1DAI0N03SKRJN|2026222    |B004LLIKVU|473048287     |2015-08-31 |\n",
            "|R2F6SKZOEYQRU3|32956435   |B004LLIKVU|473048287     |2015-08-31 |\n",
            "|RIBOP6OEAZA47 |20241560   |B00H5BNLUS|637715957     |2015-08-31 |\n",
            "|R15H8E7WD6XD29|10670435   |B004KNWX6C|763371347     |2015-08-31 |\n",
            "|RVN4P3RU4F8IE |48872127   |BT00CTOYC0|506740729     |2015-08-31 |\n",
            "|RCS8F9JCAAXC7 |460630     |B004LLIKVU|473048287     |2015-08-31 |\n",
            "|R6811C4E7UYL2 |41238378   |B00H5BMH44|81025991      |2015-08-31 |\n",
            "|R196T0NZ73TYIM|14222739   |B005ESMMKE|459536087     |2015-08-31 |\n",
            "+--------------+-----------+----------+--------------+-----------+\n",
            "only showing top 20 rows\n",
            "\n"
          ]
        }
      ],
      "source": [
        "# Create the review_id_table DataFrame. \n",
        "# Convert the 'review_date' column to a date datatype with to_date(\"review_date\", 'yyyy-MM-dd').alias(\"review_date\")\n",
        "review_id_df = df.select([\"review_id\", \"customer_id\", \"product_id\", \"product_parent\", to_date(\"review_date\", 'yyyy-MM-dd').alias(\"review_date\")])\n",
        "review_id_df.show(truncate=False)"
      ]
    },
    {
      "cell_type": "code",
      "execution_count": 9,
      "metadata": {
        "id": "lzMmkdKmY--D",
        "colab": {
          "base_uri": "https://localhost:8080/"
        },
        "outputId": "468a69f6-b268-465e-9b22-3f13078f24f7"
      },
      "outputs": [
        {
          "output_type": "stream",
          "name": "stdout",
          "text": [
            "+--------------+-----------+-------------+-----------+----+-----------------+\n",
            "|review_id     |star_rating|helpful_votes|total_votes|vine|verified_purchase|\n",
            "+--------------+-----------+-------------+-----------+----+-----------------+\n",
            "|R27ZP1F1CD0C3Y|5          |0            |0          |N   |Y                |\n",
            "|RJ7RSBCHUDNNE |5          |0            |0          |N   |Y                |\n",
            "|R1HVYBSKLQJI5S|5          |0            |0          |N   |Y                |\n",
            "|R2HAXF0IIYQBIR|1          |0            |0          |N   |Y                |\n",
            "|RNYLPX611NB7Q |5          |0            |0          |N   |Y                |\n",
            "|R3ALA9XXMBEDZR|5          |0            |0          |N   |Y                |\n",
            "|R3R8PHAVJFTPDF|5          |0            |0          |N   |Y                |\n",
            "|R18WWEK8OIXE30|5          |0            |0          |N   |Y                |\n",
            "|R1EGUNQON2J277|1          |0            |0          |N   |Y                |\n",
            "|R21Z4M4L98CPU2|5          |0            |0          |N   |Y                |\n",
            "|R6JH7A117FHFA |5          |0            |0          |N   |Y                |\n",
            "|R1XZHS8M1GCGI7|5          |1            |1          |N   |Y                |\n",
            "|R1DAI0N03SKRJN|5          |1            |1          |N   |Y                |\n",
            "|R2F6SKZOEYQRU3|5          |0            |0          |N   |N                |\n",
            "|RIBOP6OEAZA47 |5          |1            |1          |N   |Y                |\n",
            "|R15H8E7WD6XD29|5          |0            |0          |N   |Y                |\n",
            "|RVN4P3RU4F8IE |5          |0            |0          |N   |Y                |\n",
            "|RCS8F9JCAAXC7 |4          |0            |0          |N   |Y                |\n",
            "|R6811C4E7UYL2 |5          |0            |0          |N   |Y                |\n",
            "|R196T0NZ73TYIM|5          |1            |1          |N   |Y                |\n",
            "+--------------+-----------+-------------+-----------+----+-----------------+\n",
            "only showing top 20 rows\n",
            "\n"
          ]
        }
      ],
      "source": [
        "# Create the vine_table. DataFrame\n",
        "vine_df = df.select([\"review_id\", \"star_rating\", \"helpful_votes\", \"total_votes\", \"vine\", \"verified_purchase\"])\n",
        "vine_df.show(truncate=False)"
      ]
    },
    {
      "cell_type": "markdown",
      "metadata": {
        "id": "jITZhLkmY--J"
      },
      "source": [
        "### Connect to the AWS RDS instance and write each DataFrame to its table. "
      ]
    },
    {
      "cell_type": "code",
      "execution_count": 10,
      "metadata": {
        "id": "7jiUvs1aY--L"
      },
      "outputs": [],
      "source": [
        "# Configure settings for RDS\n",
        "mode = \"append\"\n",
        "jdbc_url=\"jdbc:postgresql://datachal.ck9jnsbtuuxc.us-east-1.rds.amazonaws.com:5432/my_challenge_data\"\n",
        "config = {\"user\":\"postgres\", \n",
        "          \"password\": \"Bootcamp\", \n",
        "          \"driver\":\"org.postgresql.Driver\"}"
      ]
    },
    {
      "cell_type": "code",
      "execution_count": 15,
      "metadata": {
        "id": "T2zgZ-aKY--Q"
      },
      "outputs": [],
      "source": [
        "# Write review_id_df to table in RDS\n",
        "review_id_df.write.jdbc(url=jdbc_url, table='review_id_table', mode=mode, properties=config)"
      ]
    },
    {
      "cell_type": "code",
      "execution_count": 12,
      "metadata": {
        "id": "1m3yzn-LY--U"
      },
      "outputs": [],
      "source": [
        "# Write products_df to table in RDS\n",
        "# about 3 min\n",
        "products_df.write.jdbc(url=jdbc_url, table='products_table', mode=mode, properties=config)"
      ]
    },
    {
      "cell_type": "code",
      "execution_count": 13,
      "metadata": {
        "id": "KbXri15fY--Z"
      },
      "outputs": [],
      "source": [
        "# Write customers_df to table in RDS\n",
        "# 5 min 14 s\n",
        "customers_df.write.jdbc(url=jdbc_url, table='customers_table', mode=mode, properties=config)"
      ]
    },
    {
      "cell_type": "code",
      "execution_count": 14,
      "metadata": {
        "id": "XdQknSHLY--e"
      },
      "outputs": [],
      "source": [
        "# Write vine_df to table in RDS\n",
        "# 11 minutes\n",
        "vine_df.write.jdbc(url=jdbc_url, table='vine_table', mode=mode, properties=config)"
      ]
    },
    {
      "cell_type": "code",
      "execution_count": null,
      "metadata": {
        "id": "Exuo6ebUsCqW"
      },
      "outputs": [],
      "source": []
    }
  ],
  "metadata": {
    "colab": {
      "provenance": []
    },
    "kernelspec": {
      "display_name": "Python 3 (ipykernel)",
      "language": "python",
      "name": "python3"
    },
    "language_info": {
      "codemirror_mode": {
        "name": "ipython",
        "version": 3
      },
      "file_extension": ".py",
      "mimetype": "text/x-python",
      "name": "python",
      "nbconvert_exporter": "python",
      "pygments_lexer": "ipython3",
      "version": "3.8.13"
    },
    "nteract": {
      "version": "0.12.3"
    }
  },
  "nbformat": 4,
  "nbformat_minor": 0
}